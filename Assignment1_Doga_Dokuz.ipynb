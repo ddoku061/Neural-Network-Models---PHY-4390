{
 "cells": [
  {
   "cell_type": "markdown",
   "id": "6de7ed38",
   "metadata": {
    "deletable": false,
    "editable": false,
    "slideshow": {
     "slide_type": ""
    },
    "tags": []
   },
   "source": [
    "# <center>Assignment 1</center>\n",
    "## <center>PHY4390 & PHY8191 Winter 2025</center>\n",
    "### <center>Dr. Stefanie Czischek</center>\n",
    "\n",
    "### <center>50 points, due January 14, 2025\n",
    "### <center>Assignment Written by Doğa Dokuz, 300158156 </center>\n"
   ]
  },
  {
   "cell_type": "markdown",
   "id": "57361819",
   "metadata": {
    "deletable": false,
    "editable": false,
    "slideshow": {
     "slide_type": ""
    },
    "tags": []
   },
   "source": [
    "## Question 1. (10 points)\n",
    "\n",
    "Write a code sniplet which prints the numbers from 1 to 30. Whenever a number is dividable by 7 and gives an integer result, print \"XXX\" instead of the number. Use a for-loop and an if/else-statement to address this problem. You might also use the modulo function ```x % y``` which returns the remainder when integer x is divided by integer y."
   ]
  },
  {
   "cell_type": "code",
   "execution_count": 207,
   "id": "97f2a98e",
   "metadata": {
    "editable": true,
    "slideshow": {
     "slide_type": ""
    },
    "tags": []
   },
   "outputs": [
    {
     "name": "stdout",
     "output_type": "stream",
     "text": [
      "1 is not divisble by 7\n",
      "2 is not divisble by 7\n",
      "3 is not divisble by 7\n",
      "4 is not divisble by 7\n",
      "5 is not divisble by 7\n",
      "6 is not divisble by 7\n",
      "XXX\n",
      "8 is not divisble by 7\n",
      "9 is not divisble by 7\n",
      "10 is not divisble by 7\n",
      "11 is not divisble by 7\n",
      "12 is not divisble by 7\n",
      "13 is not divisble by 7\n",
      "XXX\n",
      "15 is not divisble by 7\n",
      "16 is not divisble by 7\n",
      "17 is not divisble by 7\n",
      "18 is not divisble by 7\n",
      "19 is not divisble by 7\n",
      "20 is not divisble by 7\n",
      "XXX\n",
      "22 is not divisble by 7\n",
      "23 is not divisble by 7\n",
      "24 is not divisble by 7\n",
      "25 is not divisble by 7\n",
      "26 is not divisble by 7\n",
      "27 is not divisble by 7\n",
      "XXX\n",
      "29 is not divisble by 7\n",
      "30 is not divisble by 7\n"
     ]
    }
   ],
   "source": [
    "#listing numbers from 1 to 30\n",
    "for x in range(1,31):\n",
    "    #creating a remainder from the division by 7\n",
    "    remainder = x % 7 \n",
    "    #if there is no remainders then the number should be divisible by 7\n",
    "    if remainder == 0:\n",
    "        print('XXX')\n",
    "    #if it is not disible then say that it is not divisible\n",
    "    else:\n",
    "        print(str(x)+' is not divisble by 7')"
   ]
  },
  {
   "cell_type": "markdown",
   "id": "57667c36",
   "metadata": {
    "deletable": false,
    "editable": false,
    "slideshow": {
     "slide_type": ""
    },
    "tags": []
   },
   "source": [
    "## Question 2. (10 points)\n",
    "\n",
    "Write a function calld ```expononent_sum``` which takes two integer arguments $x$ and $y$ and returns $z = \\sum_{i=0}^{y-1}x^y$. Use this function to print the results for $x=10$ and all $y\\in\\{0,1,2,3,4,5,6,7,8,9\\}$."
   ]
  },
  {
   "cell_type": "code",
   "execution_count": 208,
   "id": "3d549425",
   "metadata": {},
   "outputs": [
    {
     "name": "stdout",
     "output_type": "stream",
     "text": [
      "0\n",
      "10\n",
      "200\n",
      "3000\n",
      "40000\n",
      "500000\n",
      "6000000\n",
      "70000000\n",
      "800000000\n",
      "9000000000\n"
     ]
    }
   ],
   "source": [
    "def expononent_sum(x,y): #create a function which takes 2 int arguments\n",
    "    #if the last value is less than 0, our summation (sigma) function will return 0 because it does not have any value\n",
    "    if y-1 < 0:\n",
    "        z = 0\n",
    "        print(z)\n",
    "    else:  #if the y value is 1, and x**y is the start of our summation, start point of 0, we have to count it until y-1 which is equal to 0 again. therefore, our summation is equal to the first step of the summation\n",
    "        z = (x**y)*(y) # starting from 0, our start point is 10^2, we have to sum it until y-1 = 1 so that is just 10^2 + 10^2 = 2x10^2 in this case y*(x**y)\n",
    "        print(z)\n",
    "\n",
    "\n",
    "expononent_sum(x = 10, y = 0) #call the function later \n",
    "expononent_sum(x = 10, y = 1)\n",
    "expononent_sum(x = 10, y = 2)\n",
    "expononent_sum(x = 10, y = 3)\n",
    "expononent_sum(x = 10, y = 4)\n",
    "expononent_sum(x = 10, y = 5)\n",
    "expononent_sum(x = 10, y = 6)\n",
    "expononent_sum(x = 10, y = 7)\n",
    "expononent_sum(x = 10, y = 8)\n",
    "expononent_sum(x = 10, y = 9)\n"
   ]
  },
  {
   "cell_type": "markdown",
   "id": "c54fafc9",
   "metadata": {
    "deletable": false,
    "editable": false,
    "slideshow": {
     "slide_type": ""
    },
    "tags": []
   },
   "source": [
    "## Question 3. (10 points)\n",
    "\n",
    "Use NumPy to create a $10\\times 10$ matrix in which the elements on the borders are 5 and all other elements are 1.\n",
    "Use the function ```np.ones((a, b))``` to initialize a two-dimensional array of size $a\\times b$ full of ones.</br>\n",
    "\n",
    "Once you have created this array, use ```np.random.randint(N, size=(a,b))``` to generate a two-dimensional array of size $a\\times b$ filled with random integer values between 0 and $N-1$, and choose $N=6$.</br>\n",
    "\n",
    "Compare the two arrays elementwise to see if any two elements match."
   ]
  },
  {
   "cell_type": "code",
   "execution_count": 209,
   "id": "615890a5",
   "metadata": {
    "editable": true,
    "slideshow": {
     "slide_type": ""
    },
    "tags": []
   },
   "outputs": [
    {
     "name": "stdout",
     "output_type": "stream",
     "text": [
      "[[5 5 5 5 5 5 5 5 5 5]\n",
      " [5 1 1 1 1 1 1 1 1 5]\n",
      " [5 1 1 1 1 1 1 1 1 5]\n",
      " [5 1 1 1 1 1 1 1 1 5]\n",
      " [5 1 1 1 1 1 1 1 1 5]\n",
      " [5 1 1 1 1 1 1 1 1 5]\n",
      " [5 1 1 1 1 1 1 1 1 5]\n",
      " [5 1 1 1 1 1 1 1 1 5]\n",
      " [5 1 1 1 1 1 1 1 1 5]\n",
      " [5 5 5 5 5 5 5 5 5 5]]\n",
      " \n",
      "[[5 5 0 0 1 4 0 0 1 5]\n",
      " [5 0 4 1 3 0 3 2 5 0]\n",
      " [5 4 3 4 5 1 0 3 2 4]\n",
      " [0 0 3 3 3 0 5 3 2 4]\n",
      " [4 4 0 5 0 1 3 4 4 5]\n",
      " [3 0 5 1 3 2 2 4 2 2]\n",
      " [0 3 2 2 4 1 4 0 2 5]\n",
      " [3 0 0 0 0 2 4 4 4 3]\n",
      " [4 3 4 1 2 5 4 0 4 5]\n",
      " [0 5 0 3 4 2 2 0 0 4]]\n",
      "There are some same elements in two matrix: True\n",
      "Two of the matrix are identical: False\n",
      "In row 1 and column 1, both matrices have the same element 5\n",
      "In row 1 and column 2, both matrices have the same element 5\n",
      "In row 1 and column 10, both matrices have the same element 5\n",
      "In row 2 and column 1, both matrices have the same element 5\n",
      "In row 2 and column 4, both matrices have the same element 1\n",
      "In row 3 and column 1, both matrices have the same element 5\n",
      "In row 3 and column 6, both matrices have the same element 1\n",
      "In row 5 and column 6, both matrices have the same element 1\n",
      "In row 5 and column 10, both matrices have the same element 5\n",
      "In row 6 and column 4, both matrices have the same element 1\n",
      "In row 7 and column 6, both matrices have the same element 1\n",
      "In row 7 and column 10, both matrices have the same element 5\n",
      "In row 9 and column 4, both matrices have the same element 1\n",
      "In row 9 and column 10, both matrices have the same element 5\n",
      "In row 10 and column 2, both matrices have the same element 5\n"
     ]
    }
   ],
   "source": [
    "import numpy as np\n",
    "\n",
    "#defining a and b\n",
    "a = 10\n",
    "b = 10\n",
    "\n",
    "matrix_1 = np.ones((a, b),dtype=int) #creating 2-D array with a size of a x b\n",
    "#defining the borders one by one with the slice method\n",
    "matrix_1[0,:] = 5 #making first row all 5\n",
    "matrix_1[-1,:] = 5 #making last row all 5\n",
    "matrix_1[:,0] = 5 #making first column all 5\n",
    "matrix_1[:,-1] = 5 #making last column all 5\n",
    "print(matrix_1)\n",
    "\n",
    "N=6\n",
    "matrix_2 = np.random.randint(N,size=(a,b)) #generates random numbers between 0 and 6, and creates 10x10 matrix\n",
    "\n",
    "print(' ')\n",
    "print(matrix_2)\n",
    "\n",
    "print('There are some same elements in two matrix: '+ str((matrix_1 == matrix_2).any()))\n",
    "print('Two of the matrix are identical: '+str((matrix_1 == matrix_2).all()))\n",
    "\n",
    "#to make a comparaison row to row and column to column:\n",
    "for x in range(a): # looking rows\n",
    "    for y in range(b): #looking columns\n",
    "        if matrix_1[x][y] == matrix_2[x][y]: #checking if the two matrix have the same element\n",
    "            item = matrix_1[x][y] #the common element value found\n",
    "            print(f'In row {x+1} and column {y+1}, both matrices have the same element {item}') #output of this function might to be too long, where default python output will print ... to reduce some of the text\n"
   ]
  },
  {
   "cell_type": "markdown",
   "id": "32c893c8",
   "metadata": {
    "deletable": false,
    "editable": false,
    "slideshow": {
     "slide_type": ""
    },
    "tags": []
   },
   "source": [
    "## Question 4. (10 points)\n",
    "\n",
    "Use NumPy and Matplotlib for this exercise. Define a function ```cos_sin_sum(x)``` which calculates $\\mathrm{sin}(x)+\\mathrm{cos}(x)$ and a function ```cos_sin_prod(x)``` which calculates $\\mathrm{sin}(x)\\times\\mathrm{cos}(x)$. Plot both functions in the range $x\\in[-4,4]$ and choose an appropriate step size.</br>\n",
    "\n",
    "Additionally, plot $\\mathrm{cos}(x)$ on the same range $x\\in[-4,4]$. Add another line to the plot, which shows $\\sqrt{x}$ for $x\\in[0,6]$ (use ```np.sqrt()``` for this).</br>\n",
    "\n",
    "Show all four functions in one single plot and add a legend with suitable labels. Don't forget to also label the axes."
   ]
  },
  {
   "cell_type": "code",
   "execution_count": 210,
   "id": "47e22a24",
   "metadata": {
    "editable": true,
    "slideshow": {
     "slide_type": ""
    },
    "tags": []
   },
   "outputs": [
    {
     "data": {
      "text/plain": [
       "<matplotlib.legend.Legend at 0x7fafa1acf2e0>"
      ]
     },
     "execution_count": 210,
     "metadata": {},
     "output_type": "execute_result"
    },
    {
     "data": {
      "image/png": "[encoded data removed]",
      "text/plain": [
       "<Figure size 432x288 with 1 Axes>"
      ]
     },
     "metadata": {
      "needs_background": "light"
     },
     "output_type": "display_data"
    }
   ],
   "source": [
    "import matplotlib.pyplot as plt \n",
    "\n",
    "x = np.linspace(-4,4,100) #creating number array between -4 to 4 with a step size of 100\n",
    "\n",
    "sum_y = [] #creating an empty list to store the each calculations from the function\n",
    "\n",
    "def cos_sin_sum(x): #creating summation function\n",
    "    for i in x: #running through all the items in list x\n",
    "        sum = np.sin(i)+np.cos(i) #math function\n",
    "        sum_y.append(sum) #the outcome is stored in the empty list\n",
    "    return sum_y #returning the list at the end of the loop, this gives the same list size as the input\n",
    "\n",
    "#similar method used below\n",
    "prod_y = []\n",
    "def cos_sin_prod(x): #creating product function\n",
    "    for i in x: \n",
    "        prod = np.sin(i) * np.cos(i)\n",
    "        prod_y.append(prod)\n",
    "    return prod_y \n",
    "\n",
    "#labelling the x and y axis, title\n",
    "plt.xlabel(\"x\")\n",
    "plt.ylabel(\"f(x)\")\n",
    "plt.title('x vs various f(x)')\n",
    "#creating a plot for the summation function w.r.t x\n",
    "plt.plot(x,cos_sin_sum(x), label = 'sin(x) + cos(x)')  \n",
    "#creating a plot for the product function w.r.t x\n",
    "plt.plot(x,cos_sin_prod(x), label = 'sin(x) × cos(x)')\n",
    "#creating a plot for cosine function w.r.t x\n",
    "plt.plot(x,np.cos(x),label = 'cos(x)')\n",
    "\n",
    "#defining new x number list\n",
    "x = np.linspace(0,6,100)\n",
    "#creating a plot for the square root function w.r.t x\n",
    "plt.plot(x,np.sqrt(x), label = '√x')\n",
    "\n",
    "#printing the legend of the plots\n",
    "plt.legend()\n",
    "\n"
   ]
  },
  {
   "cell_type": "markdown",
   "id": "365d2354-3cef-42f5-8deb-a679a1be065f",
   "metadata": {
    "editable": false,
    "slideshow": {
     "slide_type": ""
    },
    "tags": []
   },
   "source": [
    "## Question 5. (10 points)\n",
    "\n",
    "Create a Python class that takes an array as input and calculates the absolute value, the square, the square root, the Sine, and the Cosine of each array element.\n",
    "Use this class to create the same plot as in question 4. "
   ]
  },
  {
   "cell_type": "code",
   "execution_count": 211,
   "id": "ac59350e-dff5-44c3-95c4-870110da6726",
   "metadata": {
    "editable": true,
    "slideshow": {
     "slide_type": ""
    },
    "tags": []
   },
   "outputs": [
    {
     "data": {
      "text/plain": [
       "<matplotlib.legend.Legend at 0x7fafa0ec2fd0>"
      ]
     },
     "execution_count": 211,
     "metadata": {},
     "output_type": "execute_result"
    },
    {
     "data": {
      "image/png": "[encoded data removed]",
      "text/plain": [
       "<Figure size 432x288 with 1 Axes>"
      ]
     },
     "metadata": {
      "needs_background": "light"
     },
     "output_type": "display_data"
    }
   ],
   "source": [
    "class Python_Class: #creating a class\n",
    "    def __init__(self,input_array):\n",
    "        self.array = input_array #defining an array to use as an input\n",
    "        \n",
    "        #creating an empty output list for all the math functions needed for the question: absolute value, square, square root, sine, cosine\n",
    "        self.output_abs_array = [] \n",
    "        self.output_sq_array = []\n",
    "        self.output_sqrt_array = []\n",
    "        self.output_sin_array = []\n",
    "        self.output_cos_array = []\n",
    "    \n",
    "    #creating math functions, we want to calculate different math functions for each element in the array, individually. Similar method is followed for each defined function below.\n",
    "    def Absolute_Value(self):\n",
    "        for item in self.array: #extracting elements from the array\n",
    "            self.output_abs_array.append(np.abs(item)) #collecting the output of the math function in an empty output array to store the information\n",
    "        return self.output_abs_array\n",
    "    #similar step\n",
    "    def Square(self):\n",
    "        for item in self.array:\n",
    "            self.output_sq_array.append(item**2)\n",
    "        return self.output_sq_array\n",
    "    #similar step\n",
    "    def Square_Root(self):\n",
    "        for item in self.array:\n",
    "            self.output_sqrt_array.append(np.sqrt(item))\n",
    "        return self.output_sqrt_array\n",
    "    #similar step\n",
    "    def Sine(self):\n",
    "        for item in self.array:\n",
    "            self.output_sin_array.append(np.sin(item))\n",
    "        return self.output_sin_array\n",
    "    #similar step\n",
    "    def Cosine(self):\n",
    "        for item in self.array:\n",
    "            self.output_cos_array.append(np.cos(item))\n",
    "        return self.output_cos_array\n",
    "\n",
    "x = np.linspace(-4,4,100) #creating number array between -4 to 4 with a step size of 100\n",
    "math = Python_Class(x) #creating a variable that uses x array as the input of the class\n",
    "\n",
    "#labelling the x and y axis, title\n",
    "plt.xlabel(\"x\")\n",
    "plt.ylabel(\"f(x)\")\n",
    "plt.title('x vs various f(x)')\n",
    "#creating plot for all the points of the x array with their output of each math function performed.\n",
    "plt.plot(x,math.Absolute_Value(), color= 'magenta', label = 'abs(x)')\n",
    "plt.plot(x,math.Square(), color='red',label = 'sq(x)')\n",
    "plt.plot(x,math.Sine(), color='orange',label = 'sin(x)')\n",
    "plt.plot(x,math.Cosine(), color='blue', label = 'cos(x)')\n",
    "\n",
    "#changing the x for sqrt() function as asked in question 4\n",
    "x_sqrt = np.linspace(0,6,100)\n",
    "math_sqrt = Python_Class(x_sqrt)\n",
    "plt.plot(x_sqrt,math_sqrt.Square_Root(), color='green',label = 'sqrt(x)')\n",
    "plt.legend()\n"
   ]
  }
 ],
 "metadata": {
  "kernelspec": {
   "display_name": "base",
   "language": "python",
   "name": "python3"
  },
  "language_info": {
   "codemirror_mode": {
    "name": "ipython",
    "version": 3
   },
   "file_extension": ".py",
   "mimetype": "text/x-python",
   "name": "python",
   "nbconvert_exporter": "python",
   "pygments_lexer": "ipython3",
   "version": "3.8.8"
  }
 },
 "nbformat": 4,
 "nbformat_minor": 5
}
